{
 "cells": [
  {
   "cell_type": "code",
   "execution_count": 1,
   "id": "d4f8c368",
   "metadata": {},
   "outputs": [
    {
     "name": "stdout",
     "output_type": "stream",
     "text": [
      "Intel MKL WARNING: Support of Intel(R) Streaming SIMD Extensions 4.2 (Intel(R) SSE4.2) enabled only processors has been deprecated. Intel oneAPI Math Kernel Library 2025.0 will require Intel(R) Advanced Vector Extensions (Intel(R) AVX) instructions.\n",
      "Intel MKL WARNING: Support of Intel(R) Streaming SIMD Extensions 4.2 (Intel(R) SSE4.2) enabled only processors has been deprecated. Intel oneAPI Math Kernel Library 2025.0 will require Intel(R) Advanced Vector Extensions (Intel(R) AVX) instructions.\n"
     ]
    },
    {
     "name": "stderr",
     "output_type": "stream",
     "text": [
      "2023-08-22 11:39:03.484172: I tensorflow/core/platform/cpu_feature_guard.cc:182] This TensorFlow binary is optimized to use available CPU instructions in performance-critical operations.\n",
      "To enable the following instructions: SSE4.1 SSE4.2, in other operations, rebuild TensorFlow with the appropriate compiler flags.\n"
     ]
    }
   ],
   "source": [
    "#Import modules\n",
    "import pandas as pd\n",
    "import numpy as np\n",
    "import tensorflow as tf\n",
    "from tensorflow.keras.preprocessing.image import ImageDataGenerator\n",
    "from tensorflow.keras.applications import ResNet50V2"
   ]
  },
  {
   "cell_type": "code",
   "execution_count": 2,
   "id": "216c7cca",
   "metadata": {},
   "outputs": [],
   "source": [
    "#Define train directory\n",
    "train_dir = '/Users/david/Desktop/Pet facial expression Tensorflow/Pet Facial expression/Master Folder/train'\n",
    "val_dir = '/Users/david/Desktop/Pet facial expression Tensorflow/Pet Facial expression/Master Folder/valid'\n",
    "test_dir = '/Users/david/Desktop/Pet facial expression Tensorflow/Pet Facial expression/Master Folder/test'"
   ]
  },
  {
   "cell_type": "code",
   "execution_count": 3,
   "id": "64d675ce",
   "metadata": {},
   "outputs": [
    {
     "name": "stdout",
     "output_type": "stream",
     "text": [
      "Found 1000 images belonging to 4 classes.\n",
      "Found 36 images belonging to 4 classes.\n",
      "Found 38 images belonging to 4 classes.\n"
     ]
    }
   ],
   "source": [
    "# Instantiate ImageDataGenerator instances for training, validation and testing\n",
    "train_datagen = ImageDataGenerator(rescale=1./255)\n",
    "                                    #rotation_range=40,\n",
    "                                    #width_shift_range=0.2,\n",
    "                                    #height_shift_range=0.2,\n",
    "                                    #shear_range=0.2,\n",
    "                                    #zoom_range=0.2,\n",
    "                                    #horizontal_flip=True,\n",
    "                                    #fill_mode='nearest')\n",
    "val_datagen = ImageDataGenerator(rescale=1./255)\n",
    "test_datagen = ImageDataGenerator(rescale=1./255)\n",
    "\n",
    "\n",
    "# Flow training images in batches of 20 using train_datagen generator\n",
    "train_generator = train_datagen.flow_from_directory(\n",
    "        train_dir,  # This is the source directory for training images\n",
    "        target_size=(150, 150),  # All images will be resized to 150x150\n",
    "        batch_size=20,\n",
    "        class_mode='categorical')\n",
    "\n",
    "# Flow validation images in batches of 20 using test_datagen generator\n",
    "validation_generator = val_datagen.flow_from_directory(\n",
    "        val_dir,\n",
    "        target_size=(150, 150),\n",
    "        batch_size=18,\n",
    "        class_mode='categorical')\n",
    "\n",
    "# Flow testing images in batches of 20 using test_datagen generator\n",
    "testing_generator = test_datagen.flow_from_directory(\n",
    "        test_dir,\n",
    "        target_size=(150, 150),\n",
    "        batch_size=19,\n",
    "        class_mode='categorical')"
   ]
  },
  {
   "cell_type": "code",
   "execution_count": 4,
   "id": "7141e187",
   "metadata": {},
   "outputs": [],
   "source": [
    "#Define model (first without transfer learning or fine-tuning; a baseline model)\n",
    "import tensorflow as tf\n",
    "from tensorflow.keras.optimizers import RMSprop\n",
    "\n",
    "def create_model():\n",
    "    model = tf.keras.models.Sequential([\n",
    "      tf.keras.layers.Conv2D(32, (3,3), activation='relu', input_shape=(150, 150, 3)),\n",
    "      tf.keras.layers.MaxPooling2D(2, 2),\n",
    "      tf.keras.layers.Conv2D(64, (3,3), activation='relu'),\n",
    "      tf.keras.layers.MaxPooling2D(2,2),\n",
    "      tf.keras.layers.Conv2D(128, (3,3), activation='relu'),\n",
    "      tf.keras.layers.MaxPooling2D(2,2),\n",
    "      tf.keras.layers.Conv2D(128, (3,3), activation='relu'),\n",
    "      tf.keras.layers.Flatten(),\n",
    "      tf.keras.layers.Dense(512, activation='relu'),\n",
    "      tf.keras.layers.Dense(4, activation='softmax')\n",
    "    ])\n",
    "\n",
    "    model.compile(optimizer = RMSprop(learning_rate = 0.001),\n",
    "                loss = 'categorical_crossentropy',\n",
    "                metrics=['accuracy'])\n",
    "  \n",
    "    return model"
   ]
  },
  {
   "cell_type": "code",
   "execution_count": 5,
   "id": "506479e9",
   "metadata": {},
   "outputs": [
    {
     "name": "stdout",
     "output_type": "stream",
     "text": [
      "Epoch 1/10\n"
     ]
    },
    {
     "name": "stderr",
     "output_type": "stream",
     "text": [
      "2023-08-22 11:39:21.363505: I tensorflow/core/common_runtime/executor.cc:1197] [/device:CPU:0] (DEBUG INFO) Executor start aborting (this does not indicate an error and you can ignore this message): INVALID_ARGUMENT: You must feed a value for placeholder tensor 'Placeholder/_0' with dtype int32\n",
      "\t [[{{node Placeholder/_0}}]]\n"
     ]
    },
    {
     "name": "stdout",
     "output_type": "stream",
     "text": [
      "50/50 [==============================] - ETA: 0s - loss: 1.5070 - accuracy: 0.2500"
     ]
    },
    {
     "name": "stderr",
     "output_type": "stream",
     "text": [
      "2023-08-22 11:39:36.604473: I tensorflow/core/common_runtime/executor.cc:1197] [/device:CPU:0] (DEBUG INFO) Executor start aborting (this does not indicate an error and you can ignore this message): INVALID_ARGUMENT: You must feed a value for placeholder tensor 'Placeholder/_0' with dtype int32\n",
      "\t [[{{node Placeholder/_0}}]]\n"
     ]
    },
    {
     "name": "stdout",
     "output_type": "stream",
     "text": [
      "50/50 [==============================] - 16s 298ms/step - loss: 1.5070 - accuracy: 0.2500 - val_loss: 1.3888 - val_accuracy: 0.1667\n",
      "Epoch 2/10\n",
      "50/50 [==============================] - 14s 287ms/step - loss: 1.3894 - accuracy: 0.2700 - val_loss: 1.3781 - val_accuracy: 0.3056\n",
      "Epoch 3/10\n",
      "50/50 [==============================] - 15s 292ms/step - loss: 1.3901 - accuracy: 0.2340 - val_loss: 1.3737 - val_accuracy: 0.2500\n",
      "Epoch 4/10\n",
      "50/50 [==============================] - 15s 303ms/step - loss: 1.3926 - accuracy: 0.2550 - val_loss: 1.3807 - val_accuracy: 0.3889\n",
      "Epoch 5/10\n",
      "50/50 [==============================] - 15s 307ms/step - loss: 1.3898 - accuracy: 0.2960 - val_loss: 1.3800 - val_accuracy: 0.3889\n",
      "Epoch 6/10\n",
      "50/50 [==============================] - 16s 312ms/step - loss: 1.3764 - accuracy: 0.3110 - val_loss: 1.3864 - val_accuracy: 0.2778\n",
      "Epoch 7/10\n",
      "50/50 [==============================] - 16s 317ms/step - loss: 1.3390 - accuracy: 0.3420 - val_loss: 1.3769 - val_accuracy: 0.2778\n",
      "Epoch 8/10\n",
      "50/50 [==============================] - 16s 317ms/step - loss: 1.3005 - accuracy: 0.4030 - val_loss: 1.3982 - val_accuracy: 0.2222\n",
      "Epoch 9/10\n",
      "50/50 [==============================] - 17s 346ms/step - loss: 1.2314 - accuracy: 0.4430 - val_loss: 1.6560 - val_accuracy: 0.2778\n",
      "Epoch 10/10\n",
      "50/50 [==============================] - 750s 15s/step - loss: 1.1649 - accuracy: 0.5290 - val_loss: 1.3676 - val_accuracy: 0.3611\n"
     ]
    }
   ],
   "source": [
    "# Create baseline model\n",
    "baseline_model = create_model()\n",
    "\n",
    "# Train the baseline model\n",
    "baseline_history = baseline_model.fit(\n",
    "      train_generator,\n",
    "      steps_per_epoch=50,  \n",
    "      epochs=10,\n",
    "      validation_data=validation_generator,\n",
    "      validation_steps=2)"
   ]
  },
  {
   "cell_type": "code",
   "execution_count": 7,
   "id": "89850bd5",
   "metadata": {},
   "outputs": [
    {
     "name": "stderr",
     "output_type": "stream",
     "text": [
      "2023-08-22 11:55:42.944730: I tensorflow/core/common_runtime/executor.cc:1197] [/device:CPU:0] (DEBUG INFO) Executor start aborting (this does not indicate an error and you can ignore this message): INVALID_ARGUMENT: You must feed a value for placeholder tensor 'Placeholder/_0' with dtype int32\n",
      "\t [[{{node Placeholder/_0}}]]\n"
     ]
    },
    {
     "name": "stdout",
     "output_type": "stream",
     "text": [
      "2/2 [==============================] - 0s 90ms/step - loss: 1.6725 - accuracy: 0.2368\n",
      "Test set accuracy: 23.68421107530594\n"
     ]
    }
   ],
   "source": [
    "#Evaluate baseline model\n",
    "baseline_test_performance = baseline_model.evaluate(testing_generator)\n",
    "print(f'Test set accuracy: {baseline_test_performance[1]*100}')"
   ]
  },
  {
   "cell_type": "code",
   "execution_count": 8,
   "id": "59c62bbd",
   "metadata": {},
   "outputs": [],
   "source": [
    "#Define model (include transfer learning convolutional base)\n",
    "import tensorflow as tf\n",
    "from tensorflow.keras.optimizers import RMSprop\n",
    "\n",
    "def create_model_transfer():\n",
    "    conv_base = ResNet50V2(weights='imagenet', include_top=False, input_shape=(150, 150, 3))\n",
    "\n",
    "    model = tf.keras.models.Sequential()\n",
    "    model.add(conv_base)\n",
    "    model.add(tf.keras.layers.Flatten())\n",
    "    model.add(tf.keras.layers.Dense(512, activation='relu'))\n",
    "    model.add(tf.keras.layers.Dropout(rate=0.3))\n",
    "    model.add(tf.keras.layers.Dense(512, activation='relu'))\n",
    "    model.add(tf.keras.layers.Dropout(rate=0.3))\n",
    "    model.add(tf.keras.layers.Dense(256, activation='relu'))\n",
    "    model.add(tf.keras.layers.Dropout(rate=0.2))\n",
    "    model.add(tf.keras.layers.Dense(4, activation='softmax')) \n",
    "\n",
    "    conv_base.trainable = False\n",
    "\n",
    "    model.compile(optimizer = RMSprop(learning_rate = 0.001),\n",
    "                loss = 'categorical_crossentropy',\n",
    "                metrics=['accuracy'])\n",
    "  \n",
    "    return model"
   ]
  },
  {
   "cell_type": "code",
   "execution_count": 9,
   "id": "c5469f32",
   "metadata": {},
   "outputs": [],
   "source": [
    "#Create transfer learning model\n",
    "transfer_model = create_model_transfer()"
   ]
  },
  {
   "cell_type": "code",
   "execution_count": 11,
   "id": "5bb83eaf",
   "metadata": {},
   "outputs": [
    {
     "name": "stdout",
     "output_type": "stream",
     "text": [
      "Epoch 1/10\n"
     ]
    },
    {
     "name": "stderr",
     "output_type": "stream",
     "text": [
      "2023-08-22 11:56:02.060195: I tensorflow/core/common_runtime/executor.cc:1197] [/device:CPU:0] (DEBUG INFO) Executor start aborting (this does not indicate an error and you can ignore this message): INVALID_ARGUMENT: You must feed a value for placeholder tensor 'Placeholder/_0' with dtype int32\n",
      "\t [[{{node Placeholder/_0}}]]\n"
     ]
    },
    {
     "name": "stdout",
     "output_type": "stream",
     "text": [
      "50/50 [==============================] - ETA: 0s - loss: 9.7893 - accuracy: 0.3820"
     ]
    },
    {
     "name": "stderr",
     "output_type": "stream",
     "text": [
      "2023-08-22 11:56:33.728687: I tensorflow/core/common_runtime/executor.cc:1197] [/device:CPU:0] (DEBUG INFO) Executor start aborting (this does not indicate an error and you can ignore this message): INVALID_ARGUMENT: You must feed a value for placeholder tensor 'Placeholder/_0' with dtype int32\n",
      "\t [[{{node Placeholder/_0}}]]\n"
     ]
    },
    {
     "name": "stdout",
     "output_type": "stream",
     "text": [
      "50/50 [==============================] - 33s 622ms/step - loss: 9.7893 - accuracy: 0.3820 - val_loss: 2.3808 - val_accuracy: 0.3889\n",
      "Epoch 2/10\n",
      "50/50 [==============================] - 31s 619ms/step - loss: 2.8491 - accuracy: 0.5110 - val_loss: 2.7114 - val_accuracy: 0.3889\n",
      "Epoch 3/10\n",
      "50/50 [==============================] - 33s 665ms/step - loss: 1.8291 - accuracy: 0.5780 - val_loss: 2.3621 - val_accuracy: 0.4167\n",
      "Epoch 4/10\n",
      "50/50 [==============================] - 33s 651ms/step - loss: 1.3900 - accuracy: 0.6610 - val_loss: 2.1854 - val_accuracy: 0.3611\n",
      "Epoch 5/10\n",
      "50/50 [==============================] - 33s 656ms/step - loss: 0.9873 - accuracy: 0.7210 - val_loss: 2.8255 - val_accuracy: 0.4167\n",
      "Epoch 6/10\n",
      "50/50 [==============================] - 34s 678ms/step - loss: 0.8697 - accuracy: 0.7770 - val_loss: 2.4277 - val_accuracy: 0.4167\n",
      "Epoch 7/10\n",
      "50/50 [==============================] - 35s 696ms/step - loss: 0.5589 - accuracy: 0.8650 - val_loss: 3.0726 - val_accuracy: 0.5000\n",
      "Epoch 8/10\n",
      "50/50 [==============================] - 35s 694ms/step - loss: 0.4510 - accuracy: 0.8900 - val_loss: 4.7503 - val_accuracy: 0.4722\n",
      "Epoch 9/10\n",
      "50/50 [==============================] - 34s 678ms/step - loss: 0.4308 - accuracy: 0.9090 - val_loss: 3.7245 - val_accuracy: 0.5278\n",
      "Epoch 10/10\n",
      "50/50 [==============================] - 34s 677ms/step - loss: 0.3040 - accuracy: 0.9300 - val_loss: 6.6418 - val_accuracy: 0.4722\n"
     ]
    }
   ],
   "source": [
    "#Train transfer learning model\n",
    "history = transfer_model.fit(\n",
    "      train_generator,\n",
    "      steps_per_epoch=50, # 1000 training images, batch size = 20, therefore 50 steps per epoch  \n",
    "      epochs=10,\n",
    "      validation_data=validation_generator,\n",
    "      validation_steps=2 # 36 validation images, batch size = 18, therefore 2 validation setps per epoch\n",
    "      )"
   ]
  },
  {
   "cell_type": "code",
   "execution_count": 12,
   "id": "5f02b931",
   "metadata": {},
   "outputs": [
    {
     "name": "stderr",
     "output_type": "stream",
     "text": [
      "2023-08-22 12:01:46.326192: I tensorflow/core/common_runtime/executor.cc:1197] [/device:CPU:0] (DEBUG INFO) Executor start aborting (this does not indicate an error and you can ignore this message): INVALID_ARGUMENT: You must feed a value for placeholder tensor 'Placeholder/_0' with dtype int32\n",
      "\t [[{{node Placeholder/_0}}]]\n"
     ]
    },
    {
     "name": "stdout",
     "output_type": "stream",
     "text": [
      "2/2 [==============================] - 1s 525ms/step - loss: 5.7644 - accuracy: 0.4474\n",
      "Test set accuracy: 44.736841320991516\n"
     ]
    }
   ],
   "source": [
    "#Evaluate transfer learning model\n",
    "transfer_test_performance = transfer_model.evaluate(testing_generator)\n",
    "print(f'Test set accuracy: {transfer_test_performance[1]*100}')"
   ]
  }
 ],
 "metadata": {
  "kernelspec": {
   "display_name": "Python 3 (ipykernel)",
   "language": "python",
   "name": "python3"
  },
  "language_info": {
   "codemirror_mode": {
    "name": "ipython",
    "version": 3
   },
   "file_extension": ".py",
   "mimetype": "text/x-python",
   "name": "python",
   "nbconvert_exporter": "python",
   "pygments_lexer": "ipython3",
   "version": "3.11.4"
  }
 },
 "nbformat": 4,
 "nbformat_minor": 5
}
